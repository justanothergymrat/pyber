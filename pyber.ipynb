{
 "cells": [
  {
   "cell_type": "code",
   "execution_count": 1,
   "metadata": {
    "collapsed": true
   },
   "outputs": [],
   "source": [
    "# Import Dependencies\n",
    "import pandas as pd\n",
    "import numpy as np\n",
    "import matplotlib.pyplot as plt\n",
    "import seaborn as sns\n",
    "%matplotlib qt5    \n",
    "# qt5 = popup window"
   ]
  },
  {
   "cell_type": "code",
   "execution_count": 2,
   "metadata": {},
   "outputs": [
    {
     "data": {
      "text/html": [
       "<div>\n",
       "<style scoped>\n",
       "    .dataframe tbody tr th:only-of-type {\n",
       "        vertical-align: middle;\n",
       "    }\n",
       "\n",
       "    .dataframe tbody tr th {\n",
       "        vertical-align: top;\n",
       "    }\n",
       "\n",
       "    .dataframe thead th {\n",
       "        text-align: right;\n",
       "    }\n",
       "</style>\n",
       "<table border=\"1\" class=\"dataframe\">\n",
       "  <thead>\n",
       "    <tr style=\"text-align: right;\">\n",
       "      <th></th>\n",
       "      <th>city</th>\n",
       "      <th>driver_count</th>\n",
       "      <th>type</th>\n",
       "      <th>date</th>\n",
       "      <th>fare</th>\n",
       "      <th>ride_id</th>\n",
       "    </tr>\n",
       "  </thead>\n",
       "  <tbody>\n",
       "    <tr>\n",
       "      <th>0</th>\n",
       "      <td>Kelseyland</td>\n",
       "      <td>63</td>\n",
       "      <td>Urban</td>\n",
       "      <td>2016-08-19 04:27:52</td>\n",
       "      <td>5.51</td>\n",
       "      <td>6246006544795</td>\n",
       "    </tr>\n",
       "    <tr>\n",
       "      <th>1</th>\n",
       "      <td>Kelseyland</td>\n",
       "      <td>63</td>\n",
       "      <td>Urban</td>\n",
       "      <td>2016-04-17 06:59:50</td>\n",
       "      <td>5.54</td>\n",
       "      <td>7466473222333</td>\n",
       "    </tr>\n",
       "    <tr>\n",
       "      <th>2</th>\n",
       "      <td>Kelseyland</td>\n",
       "      <td>63</td>\n",
       "      <td>Urban</td>\n",
       "      <td>2016-05-04 15:06:07</td>\n",
       "      <td>30.54</td>\n",
       "      <td>2140501382736</td>\n",
       "    </tr>\n",
       "    <tr>\n",
       "      <th>3</th>\n",
       "      <td>Kelseyland</td>\n",
       "      <td>63</td>\n",
       "      <td>Urban</td>\n",
       "      <td>2016-01-25 20:44:56</td>\n",
       "      <td>12.08</td>\n",
       "      <td>1896987891309</td>\n",
       "    </tr>\n",
       "    <tr>\n",
       "      <th>4</th>\n",
       "      <td>Kelseyland</td>\n",
       "      <td>63</td>\n",
       "      <td>Urban</td>\n",
       "      <td>2016-08-09 18:19:47</td>\n",
       "      <td>17.91</td>\n",
       "      <td>8784212854829</td>\n",
       "    </tr>\n",
       "  </tbody>\n",
       "</table>\n",
       "</div>"
      ],
      "text/plain": [
       "         city  driver_count   type                 date   fare        ride_id\n",
       "0  Kelseyland            63  Urban  2016-08-19 04:27:52   5.51  6246006544795\n",
       "1  Kelseyland            63  Urban  2016-04-17 06:59:50   5.54  7466473222333\n",
       "2  Kelseyland            63  Urban  2016-05-04 15:06:07  30.54  2140501382736\n",
       "3  Kelseyland            63  Urban  2016-01-25 20:44:56  12.08  1896987891309\n",
       "4  Kelseyland            63  Urban  2016-08-09 18:19:47  17.91  8784212854829"
      ]
     },
     "execution_count": 2,
     "metadata": {},
     "output_type": "execute_result"
    }
   ],
   "source": [
    "city_raw_data = \"raw_data/city_data.csv\"\n",
    "ride_raw_data = \"raw_data/ride_data.csv\"\n",
    "\n",
    "city_data = pd.read_csv(city_raw_data, low_memory=False)\n",
    "ride_data = pd.read_csv(ride_raw_data, low_memory=False)\n",
    "# city_data.columns\n",
    "# city_data.head()\n",
    "# ride_data.columns\n",
    "# ride_data.head()\n",
    "\n",
    "city_complete = pd.merge(city_data, ride_data, how=\"left\", on=[\"city\",\"city\"])\n",
    "# city_complete.columns\n",
    "city_complete.head()"
   ]
  },
  {
   "cell_type": "code",
   "execution_count": 3,
   "metadata": {
    "collapsed": true
   },
   "outputs": [],
   "source": [
    "# print(city_data.columns)\n",
    "# print(ride_data.columns)\n",
    "# print(city_complete.columns)"
   ]
  },
  {
   "cell_type": "code",
   "execution_count": 4,
   "metadata": {},
   "outputs": [
    {
     "name": "stdout",
     "output_type": "stream",
     "text": [
      "total cities: 125\n",
      "avg fare for all: 26.86710427918569\n"
     ]
    }
   ],
   "source": [
    "total_cities = len(city_complete.city.unique())\n",
    "average_fare_all = city_complete.fare.mean()\n",
    "print(\"total cities: \"+ str(total_cities) + \"\\navg fare for all: \" + str(average_fare_all))"
   ]
  },
  {
   "cell_type": "code",
   "execution_count": 7,
   "metadata": {},
   "outputs": [],
   "source": [
    "average_fares = city_complete.groupby([\"city\"]).mean()[\"fare\"]\n",
    "# average_fares.head()\n",
    "rides_per_city  = city_complete.groupby([\"city\"]).count()[\"fare\"]\n",
    "# rides_per_city.head()\n",
    "drivers_per_city = city_complete.groupby(\"city\").sum()[\"driver_count\"]\n",
    "# drivers_per_city.head()\n",
    "# city_type = city_complete.groupby(\"city\")[\"type\"].value_counts()\n",
    "sum_fares = city_complete.groupby([\"city\"]).sum()[\"fare\"]\n",
    "city_type = city_complete.groupby(\"city\")[\"type\"]\n",
    "# city_type = city_complete.groupby(\"city\").max()[\"type\"]\n",
    "city_type2 = city_complete.groupby(\"city\")[\"type\"].value_counts()\n",
    "\n",
    "\n",
    "\n",
    "city_summary = pd.DataFrame({\"Drivers\" : drivers_per_city,\n",
    "                             \"Rides\" : rides_per_city,\n",
    "                             \"Revenue\" : sum_fares,\n",
    "                             \"Average Fares\" : average_fares\n",
    "                            })\n",
    "#\n",
    "# rearrange your data cause your stupid data is causing massive issues\n",
    "# and\n",
    "# city_type = city_complete.groupby(\"city\").max()[\"type\"]\n",
    "# is not an elegant way of doing business when it comes to non-numbers\n",
    "#\n",
    "WhyAreThereTwo = city_data.set_index([\"type\"])\n",
    "WhyAreThereTwo.index.value_counts()\n",
    "# WhyAreThereTwo.head()\n",
    "WhyAreThereTwo = WhyAreThereTwo[\"city\"].drop_duplicates()\n",
    "WhyAreThereTwo = WhyAreThereTwo.reset_index().set_index([\"city\"])\n",
    "city_summary2 = pd.concat([city_summary,WhyAreThereTwo[\"type\"]],axis=1)\n",
    "city_summary2 = city_summary2.rename(columns={'type':'Type'}) \n",
    "# city_summary2\n"
   ]
  },
  {
   "cell_type": "code",
   "execution_count": 8,
   "metadata": {
    "collapsed": true
   },
   "outputs": [],
   "source": [
    "# # graph the old way\n",
    "# x = rides_per_city\n",
    "# y = average_fares\n",
    "# z = drivers_per_city\n",
    "# plt.scatter(x, y, s=z*2, alpha=0.3, linewidth=4)\n",
    "\n",
    "# seaborn graph:\n",
    "sns.lmplot( x=\"Rides\", y=\"Average Fares\", data=city_summary2, fit_reg=False, hue='Type', legend=False, palette=dict(Rural=\"#FFD700\", Suburban=\"#87CEFA\", Urban=\"#F08080\"), scatter_kws={\"alpha\":0.6,\"s\":.25*drivers_per_city, \"linewidth\":2})\n",
    "# plt.ylim(0, None)\n",
    "# plt.xlim(0, None) \n",
    "plt.legend(loc='upper right')\n",
    "\n",
    "plt.xlabel(\"Number of Rides (per City)\")\n",
    "plt.ylabel(\"Average Fare (in USD)\")\n",
    "plt.title(\"Pyber Ride Sharing Data\")\n",
    "\n",
    "# Annotate with to make it look like the example in HW that nick made\n",
    "plt.annotate(\n",
    "'Note: bubble size corresponds\\n with number of drivers\\n (larger bubble= more drivers)', xy=(32, 30), xytext=(32, 40),\n",
    ")\n",
    "\n",
    "\n",
    "plt.show()\n",
    "\n",
    "\n"
   ]
  },
  {
   "cell_type": "code",
   "execution_count": 9,
   "metadata": {
    "collapsed": true
   },
   "outputs": [],
   "source": [
    "# pie data:\n",
    "\n",
    "city_by_type_df = city_summary2.set_index([\"Type\"])\n",
    "city_by_type_df\n",
    "\n",
    "sum_fares_by_type = city_by_type_df.groupby([\"Type\"]).sum()[\"Revenue\"]\n",
    "# sum_fares_by_type\n",
    "sum_fares_by_type_total = sum_fares_by_type.sum()\n",
    "sum_rides_by_type  = city_by_type_df.groupby([\"Type\"]).sum()[\"Rides\"]\n",
    "# sum_rides_by_type\n",
    "sum_rides_by_type_total = sum_rides_by_type.sum()\n",
    "sum_drivers_by_type = city_by_type_df.groupby(\"Type\").sum()[\"Drivers\"]\n",
    "# sum_drivers_by_type\n",
    "sum_drivers_by_type_total = sum_drivers_by_type.sum()\n",
    "\n",
    "# rural:\n",
    "percent_fares_rural = (sum_fares_by_type[\"Rural\"]/sum_fares_by_type_total)*100\n",
    "# percent_fares_rural\n",
    "percent_rides_rural = (sum_rides_by_type[\"Rural\"]/sum_rides_by_type_total)*100\n",
    "# percent_rides_rural\n",
    "percent_drivers_rural = (sum_drivers_by_type[\"Rural\"]/sum_drivers_by_type_total)*100\n",
    "# percent_drivers_rural\n",
    "\n",
    "# suburban:\n",
    "percent_fares_suburban = (sum_fares_by_type[\"Suburban\"]/sum_fares_by_type_total)*100\n",
    "# percent_fares_suburban\n",
    "percent_rides_suburban = (sum_rides_by_type[\"Suburban\"]/sum_rides_by_type_total)*100\n",
    "# percent_rides_suburban\n",
    "percent_drivers_suburban = (sum_drivers_by_type[\"Suburban\"]/sum_drivers_by_type_total)*100\n",
    "# percent_drivers_suburban\n",
    "\n",
    "# urban:\n",
    "percent_fares_urban = (sum_fares_by_type[\"Urban\"]/sum_fares_by_type_total)*100\n",
    "# percent_fares_urban\n",
    "percent_rides_urban = (sum_rides_by_type[\"Urban\"]/sum_rides_by_type_total)*100\n",
    "# percent_rides_urban\n",
    "percent_drivers_urban = (sum_drivers_by_type[\"Urban\"]/sum_drivers_by_type_total)*100\n",
    "# percent_drivers_urban\n",
    "# \"{:,.2f}%\".format(percent_drivers_urban)\n",
    "\n",
    "pie_summary = pd.DataFrame({\"Fares\" : sum_fares_by_type,\n",
    "                            \"Rides\" : sum_rides_by_type,\n",
    "                            \"Drivers\" : sum_drivers_by_type,\n",
    "                            \"% Drivers\" : (sum_drivers_by_type / sum_drivers_by_type_total)*100,\n",
    "                            \"% Fares\" : (sum_fares_by_type / sum_fares_by_type_total)*100,\n",
    "                            \"% Rides\" : (sum_rides_by_type / sum_rides_by_type_total)*100\n",
    "                            },\n",
    "                          index = [\"Urban\", \"Suburban\", \"Rural\"])\n",
    "# pie_summary[\"% Drivers\"]\n",
    "pie_summary[\"% Drivers\"] = pie_summary[\"% Drivers\"].map(\"{:,.2f}%\".format)\n",
    "pie_summary[\"% Fares\"] = pie_summary[\"% Fares\"].map(\"{:,.2f}%\".format)\n",
    "pie_summary[\"% Rides\"] = pie_summary[\"% Rides\"].map(\"{:,.2f}%\".format)\n",
    "# pie_summary\n"
   ]
  },
  {
   "cell_type": "code",
   "execution_count": 10,
   "metadata": {
    "collapsed": true
   },
   "outputs": [],
   "source": [
    "# % of Total Fares by City Type\n",
    "# Pie chart\n",
    "labels = pie_summary.index\n",
    "sizes = pie_summary[\"Fares\"]\n",
    "explode = (.15, 0, 0)  \n",
    "\n",
    "fig1, ax1 = plt.subplots()\n",
    "ax1.pie(sizes, explode=explode, labels=labels, autopct='%1.1f%%',\n",
    "        shadow=True, startangle=275, colors=[\"#F08080\", \"#87CEFA\",\"#FFD700\"])\n",
    "ax1.axis('equal')\n",
    "\n",
    "plt.title(\"Percent of Total Fares by City Type\")\n",
    "plt.legend(loc='upper left')\n",
    "plt.show()"
   ]
  },
  {
   "cell_type": "code",
   "execution_count": 11,
   "metadata": {
    "collapsed": true
   },
   "outputs": [],
   "source": [
    "\n",
    "\n",
    "# look what i can do\n",
    "group_names= pie_summary.index\n",
    "group_size= pie_summary[\"Fares\"]\n",
    "subgroup_names=city_summary2.index\n",
    "subgroup_size=city_summary2[\"Revenue\"]\n",
    " \n",
    "# Interior colors\n",
    "a, b, c=[plt.cm.Blues, plt.cm.Reds, plt.cm.Greens]\n",
    " \n",
    "# First Ring (outside)\n",
    "fig, ax = plt.subplots()\n",
    "ax.axis('equal')\n",
    "mypie, _ = ax.pie(group_size, radius=1.3, startangle=275, labels=group_names, colors=[\"#F08080\", \"#87CEFA\",\"#FFD700\"] )\n",
    "plt.setp( mypie, width=0.3, edgecolor='white')\n",
    " \n",
    "# Second Ring (Inside)\n",
    "mypie2, _ = ax.pie(subgroup_size, radius=1.3-0.3, startangle=275, labels=subgroup_names, labeldistance=1, colors=[a(0.5), a(0.4), a(0.3), b(0.5), b(0.4), c(0.6), c(0.5), c(0.4), c(0.3), c(0.2)])\n",
    "plt.setp( mypie2, width=0.4, edgecolor='white')\n",
    "plt.margins(0,0)\n",
    " \n",
    "# show it\n",
    "plt.title(\"Fare Revenue by Type and Fare Revenue per City therein\")\n",
    "plt.show()\n"
   ]
  },
  {
   "cell_type": "code",
   "execution_count": 12,
   "metadata": {
    "collapsed": true
   },
   "outputs": [],
   "source": [
    "# % of Total Rides by City Type\n",
    "\n",
    "# Pie chart\n",
    "labels = pie_summary.index\n",
    "sizes = pie_summary[\"Rides\"]\n",
    "explode = (.15, 0, 0)  \n",
    "\n",
    "fig1, ax1 = plt.subplots()\n",
    "ax1.pie(sizes, explode=explode, labels=labels, autopct='%1.1f%%',\n",
    "        shadow=True, startangle=275, colors=[\"#F08080\", \"#87CEFA\",\"#FFD700\"])\n",
    "ax1.axis('equal')\n",
    "\n",
    "plt.title(\"Percent of Total Rides by City Type\")\n",
    "plt.legend(loc='upper left')\n",
    "plt.show()"
   ]
  },
  {
   "cell_type": "code",
   "execution_count": 13,
   "metadata": {
    "collapsed": true
   },
   "outputs": [],
   "source": [
    "\n",
    "# look what i can do\n",
    "group_names= pie_summary.index\n",
    "group_size= pie_summary[\"Rides\"]\n",
    "subgroup_names=city_summary2.index\n",
    "subgroup_size=city_summary2[\"Rides\"]\n",
    " \n",
    "# Interior colors\n",
    "a, b, c=[plt.cm.Blues, plt.cm.Reds, plt.cm.Greens]\n",
    " \n",
    "# First Ring (outside)\n",
    "fig, ax = plt.subplots()\n",
    "ax.axis('equal')\n",
    "mypie, _ = ax.pie(group_size, radius=1.3, startangle=275, labels=group_names, colors=[\"#F08080\", \"#87CEFA\",\"#FFD700\"] )\n",
    "plt.setp( mypie, width=0.3, edgecolor='white')\n",
    " \n",
    "# Second Ring (Inside)\n",
    "mypie2, _ = ax.pie(subgroup_size, radius=1.3-0.3, startangle=275, labels=subgroup_names, labeldistance=1, colors=[a(0.5), a(0.4), a(0.3), b(0.5), b(0.4), c(0.6), c(0.5), c(0.4), c(0.3), c(0.2)])\n",
    "plt.setp( mypie2, width=0.4, edgecolor='white')\n",
    "plt.margins(0,0)\n",
    " \n",
    "# show it\n",
    "plt.title(\"Rides by Type and Rides per City therein\")\n",
    "plt.show()"
   ]
  },
  {
   "cell_type": "code",
   "execution_count": 18,
   "metadata": {
    "collapsed": true
   },
   "outputs": [],
   "source": [
    "# % of Total Drivers by City Type\n",
    "# Pie chart\n",
    "labels = pie_summary.index\n",
    "sizes = pie_summary[\"Drivers\"]\n",
    "explode = (.15, 0, 0)  \n",
    "\n",
    "fig1, ax1 = plt.subplots()\n",
    "ax1.pie(sizes, explode=explode, labels=labels, autopct='%1.1f%%',\n",
    "        shadow=True, startangle=275, colors=[\"#F08080\", \"#87CEFA\",\"#FFD700\"])\n",
    "ax1.axis('equal')\n",
    "\n",
    "plt.title(\"Percent of Total Drivers by City Type\")\n",
    "plt.legend(loc='upper left')\n",
    "plt.show()"
   ]
  },
  {
   "cell_type": "code",
   "execution_count": 16,
   "metadata": {
    "collapsed": true
   },
   "outputs": [],
   "source": [
    "# look what i can do\n",
    "group_names= pie_summary.index\n",
    "group_size= pie_summary[\"Drivers\"]\n",
    "subgroup_names=city_summary2.index\n",
    "subgroup_size=city_summary2[\"Drivers\"]\n",
    " \n",
    "# Interior colors\n",
    "a, b, c=[plt.cm.Blues, plt.cm.Reds, plt.cm.Greens]\n",
    " \n",
    "# First Ring (outside)\n",
    "fig, ax = plt.subplots()\n",
    "ax.axis('equal')\n",
    "mypie, _ = ax.pie(group_size, radius=1.3, startangle=275, labels=group_names, colors=[\"#F08080\", \"#87CEFA\",\"#FFD700\"] )\n",
    "plt.setp( mypie, width=0.3, edgecolor='white')\n",
    " \n",
    "# Second Ring (Inside)\n",
    "mypie2, _ = ax.pie(subgroup_size, radius=1.3-0.3, startangle=275, labels=subgroup_names, labeldistance=1, colors=[a(0.5), a(0.4), a(0.3), b(0.5), b(0.4), c(0.6), c(0.5), c(0.4), c(0.3), c(0.2)])\n",
    "plt.setp( mypie2, width=0.4, edgecolor='white')\n",
    "plt.margins(0,0)\n",
    " \n",
    "# show it\n",
    "plt.title(\"Number of Drivers by Type and Number of Drivers per City therein\")\n",
    "plt.show()\n",
    "\n"
   ]
  },
  {
   "cell_type": "markdown",
   "metadata": {
    "collapsed": true
   },
   "source": [
    "Some observations:\n",
    "\n",
    "1. Rural cities have the least number of rides but the highest average fare cost\n",
    "2. Urban cities have the highest number of rides but the lowest average fare cost\n",
    "3. Pyber is most used in Urban cities"
   ]
  },
  {
   "cell_type": "code",
   "execution_count": null,
   "metadata": {
    "collapsed": true
   },
   "outputs": [],
   "source": []
  }
 ],
 "metadata": {
  "kernelspec": {
   "display_name": "Python [conda env:PythonData]",
   "language": "python",
   "name": "conda-env-PythonData-py"
  },
  "language_info": {
   "codemirror_mode": {
    "name": "ipython",
    "version": 3
   },
   "file_extension": ".py",
   "mimetype": "text/x-python",
   "name": "python",
   "nbconvert_exporter": "python",
   "pygments_lexer": "ipython3",
   "version": "3.6.3"
  }
 },
 "nbformat": 4,
 "nbformat_minor": 2
}
